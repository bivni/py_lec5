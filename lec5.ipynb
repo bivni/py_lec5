{
 "cells": [
  {
   "cell_type": "markdown",
   "metadata": {},
   "source": [
    "# Итераторы\n",
    "\n",
    "Указатель движущийся по последовательности и  выдающий элементы\n",
    "\n",
    "\n"
   ]
  },
  {
   "cell_type": "code",
   "execution_count": 1,
   "metadata": {
    "collapsed": false
   },
   "outputs": [
    {
     "name": "stdout",
     "output_type": "stream",
     "text": [
      "1\n",
      "3\n",
      "10\n"
     ]
    }
   ],
   "source": [
    "L=[ 1, 3 , 10]\n",
    "it = iter(L)\n",
    "\n",
    "print(next(it))\n",
    "print(next(it))\n",
    "print(next(it))"
   ]
  },
  {
   "cell_type": "code",
   "execution_count": 2,
   "metadata": {
    "collapsed": false
   },
   "outputs": [
    {
     "ename": "StopIteration",
     "evalue": "",
     "output_type": "error",
     "traceback": [
      "\u001b[0;31m---------------------------------------------------------------------------\u001b[0m",
      "\u001b[0;31mStopIteration\u001b[0m                             Traceback (most recent call last)",
      "\u001b[0;32m<ipython-input-2-0b06c37b8ba2>\u001b[0m in \u001b[0;36m<module>\u001b[0;34m()\u001b[0m\n\u001b[0;32m----> 1\u001b[0;31m \u001b[0mprint\u001b[0m\u001b[1;33m(\u001b[0m\u001b[0mnext\u001b[0m\u001b[1;33m(\u001b[0m\u001b[0mit\u001b[0m\u001b[1;33m)\u001b[0m\u001b[1;33m)\u001b[0m\u001b[1;33m\u001b[0m\u001b[0m\n\u001b[0m",
      "\u001b[0;31mStopIteration\u001b[0m: "
     ]
    }
   ],
   "source": [
    "print(next(it))"
   ]
  },
  {
   "cell_type": "code",
   "execution_count": 3,
   "metadata": {
    "collapsed": false
   },
   "outputs": [
    {
     "name": "stdout",
     "output_type": "stream",
     "text": [
      "1\n"
     ]
    }
   ],
   "source": [
    "it = iter(L)\n",
    "print(next(it))\n"
   ]
  },
  {
   "cell_type": "code",
   "execution_count": 4,
   "metadata": {
    "collapsed": false
   },
   "outputs": [
    {
     "name": "stdout",
     "output_type": "stream",
     "text": [
      "0 1 2 "
     ]
    }
   ],
   "source": [
    "it2 = iter(range(3))\n",
    "\n",
    "for  i in it2:\n",
    "    print(i, end=' ')"
   ]
  },
  {
   "cell_type": "markdown",
   "metadata": {},
   "source": [
    "* * *\n",
    "\n",
    "# Генератры \n",
    "\n",
    "Генераторы -- специальный вид функций. Они не прекращают работу после того, как очередной раз сработает `yield значение` и выдаст еще один результат\n",
    "\n",
    "\n",
    "Хочется узнать подробннее: <http://www.python-course.eu/python3_generators.php>"
   ]
  },
  {
   "cell_type": "code",
   "execution_count": 5,
   "metadata": {
    "collapsed": false
   },
   "outputs": [
    {
     "name": "stdout",
     "output_type": "stream",
     "text": [
      "Плешка\n",
      "ЭФ МГУ\n",
      "ВШЭ\n"
     ]
    }
   ],
   "source": [
    "def эконом_вузы():\n",
    "    yield('Плешка')\n",
    "    yield('ЭФ МГУ')\n",
    "    yield('ВШЭ')\n",
    "    \n",
    "for v in эконом_вузы():\n",
    "    print(v)"
   ]
  },
  {
   "cell_type": "code",
   "execution_count": 6,
   "metadata": {
    "collapsed": false
   },
   "outputs": [
    {
     "name": "stdout",
     "output_type": "stream",
     "text": [
      "Плешка\tЭФ МГУ\n"
     ]
    }
   ],
   "source": [
    "v_it=iter(эконом_вузы())\n",
    "\n",
    "print(next(v_it),next(v_it),sep=\"\\t\")"
   ]
  },
  {
   "cell_type": "code",
   "execution_count": 7,
   "metadata": {
    "collapsed": false
   },
   "outputs": [
    {
     "name": "stdout",
     "output_type": "stream",
     "text": [
      "0\n",
      "1\n",
      "1\n",
      "2\n",
      "3\n",
      "5\n",
      "8\n"
     ]
    }
   ],
   "source": [
    "def fibonacci():\n",
    "    fn, fn1 = 0, 1\n",
    "    while True:\n",
    "        yield fn\n",
    "        fn, fn1 = fn1, fn + fn1\n",
    "\n",
    "f = fibonacci()\n",
    "print(next(f))\n",
    "print(next(f))\n",
    "print(next(f))\n",
    "print(next(f))\n",
    "print(next(f))\n",
    "print(next(f))\n",
    "print(next(f))"
   ]
  },
  {
   "cell_type": "code",
   "execution_count": 8,
   "metadata": {
    "collapsed": false
   },
   "outputs": [
    {
     "data": {
      "text/plain": [
       "generator"
      ]
     },
     "execution_count": 8,
     "metadata": {},
     "output_type": "execute_result"
    }
   ],
   "source": [
    "type(f)"
   ]
  },
  {
   "cell_type": "code",
   "execution_count": 10,
   "metadata": {
    "collapsed": false
   },
   "outputs": [
    {
     "data": {
      "text/plain": [
       "13"
      ]
     },
     "execution_count": 10,
     "metadata": {},
     "output_type": "execute_result"
    }
   ],
   "source": [
    "fi = iter(f)\n",
    "type(fi)\n",
    "next(fi)"
   ]
  },
  {
   "cell_type": "code",
   "execution_count": 12,
   "metadata": {
    "collapsed": false
   },
   "outputs": [
    {
     "data": {
      "text/plain": [
       "0"
      ]
     },
     "execution_count": 12,
     "metadata": {},
     "output_type": "execute_result"
    }
   ],
   "source": [
    "f1 = fibonacci()\n",
    "next(f1)"
   ]
  },
  {
   "cell_type": "markdown",
   "metadata": {},
   "source": [
    "* * *\n",
    "\n",
    "# Демонстрация стека вызовов\n",
    "\n",
    "<https://goo.gl/JcGGB8>"
   ]
  },
  {
   "cell_type": "markdown",
   "metadata": {},
   "source": [
    "* * *\n",
    "\n",
    "# Разбор ДЗ "
   ]
  },
  {
   "cell_type": "code",
   "execution_count": 14,
   "metadata": {
    "collapsed": false
   },
   "outputs": [
    {
     "data": {
      "text/plain": [
       "'0, 1, 2, 3, 4'"
      ]
     },
     "execution_count": 14,
     "metadata": {},
     "output_type": "execute_result"
    }
   ],
   "source": [
    "\", \".join((str(i) for i in range(5)) )"
   ]
  },
  {
   "cell_type": "code",
   "execution_count": 13,
   "metadata": {
    "collapsed": false
   },
   "outputs": [
    {
     "name": "stdout",
     "output_type": "stream",
     "text": [
      "     54321012345\n",
      "      432101234\n",
      "       3210123\n",
      "        21012\n",
      "         101\n",
      "          0\n",
      "          0\n",
      "         101\n",
      "        21012\n",
      "       3210123\n",
      "      432101234\n",
      "     54321012345\n"
     ]
    }
   ],
   "source": [
    "def print_line(n):\n",
    "    полуширина = 10\n",
    "    print( \" \"*(полуширина-n) +\n",
    "          \"\".join( (str(i) for i in range(n,0,-1)) )   + \"0\" +\n",
    "          \"\".join( (str(i) for i in range(1,n+1))  ) )\n",
    "    \n",
    "    \n",
    "  \n",
    "\n",
    "def sandglass(n):\n",
    "    print_line(n)\n",
    "    if n > 0:\n",
    "        sandglass(n-1)\n",
    "    print_line(n)\n",
    "\n",
    "sandglass(5)        "
   ]
  },
  {
   "cell_type": "markdown",
   "metadata": {},
   "source": [
    "визуализация <https://goo.gl/4Jnxzt>"
   ]
  },
  {
   "cell_type": "markdown",
   "metadata": {},
   "source": [
    "* * *\n",
    "\n",
    "# Импорт\n",
    "\n",
    "```python\n",
    "import morocco\n",
    "import egypt \n",
    "```\n",
    "\n",
    "Обращение в форме `модуль.имя_переменной`\n",
    "\n",
    "```python\n",
    "egypt.mandarine\n",
    "```\n",
    "     'я желтый египетский мандарин'\n",
    "\n",
    "```python\n",
    "\n",
    "morocco.mandarine\n",
    "```\n",
    "    'я оранжевый марокканский мандарин'\n",
    "\n",
    "<img src=\"2mandarins_with_labels.jpg\" alt=\"Drawing1\" style=\"width: 400px;\"/>\n",
    "\n",
    "\n",
    "```python\n",
    "from morocco import mandarine\n",
    "from egypt import mandarine\n",
    "```\n",
    "\n",
    "Обращение в форме `имя_переменной`\n",
    "\n",
    "```python\n",
    "mandarine\n",
    "```\n",
    "    'я желтый египетский мандарин'\n",
    "\n",
    "<img src=\"1mandarin.jpg\" alt=\"Drawing2\" style=\"width: 400px;\"/>\n",
    "\n"
   ]
  },
  {
   "cell_type": "markdown",
   "metadata": {
    "collapsed": true
   },
   "source": []
  },
  {
   "cell_type": "code",
   "execution_count": 16,
   "metadata": {
    "collapsed": false
   },
   "outputs": [
    {
     "name": "stdout",
     "output_type": "stream",
     "text": [
      " module egypt in main program\n"
     ]
    }
   ],
   "source": [
    "%run egypt.py"
   ]
  },
  {
   "cell_type": "code",
   "execution_count": 17,
   "metadata": {
    "collapsed": false
   },
   "outputs": [
    {
     "name": "stdout",
     "output_type": "stream",
     "text": [
      "module egypt was imported\n"
     ]
    }
   ],
   "source": [
    "import egypt"
   ]
  },
  {
   "cell_type": "code",
   "execution_count": 15,
   "metadata": {
    "collapsed": true
   },
   "outputs": [],
   "source": [
    "%pycat egypt.py"
   ]
  },
  {
   "cell_type": "code",
   "execution_count": null,
   "metadata": {
    "collapsed": true
   },
   "outputs": [],
   "source": []
  }
 ],
 "metadata": {
  "kernelspec": {
   "display_name": "Python [default]",
   "language": "python",
   "name": "python3"
  },
  "language_info": {
   "codemirror_mode": {
    "name": "ipython",
    "version": 3
   },
   "file_extension": ".py",
   "mimetype": "text/x-python",
   "name": "python",
   "nbconvert_exporter": "python",
   "pygments_lexer": "ipython3",
   "version": "3.5.2"
  }
 },
 "nbformat": 4,
 "nbformat_minor": 2
}
