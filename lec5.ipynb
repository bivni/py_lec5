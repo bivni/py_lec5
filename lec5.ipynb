{
 "cells": [
  {
   "cell_type": "markdown",
   "metadata": {},
   "source": [
    "# Скачивание этого notebook и сопуствующих файлов к себе на компьютер\n",
    "\n",
    "Поскольку для лекции 5 использовался не только ноутбук (файл с расширением  .ipynb), а еще и несколько сопутсвующих файлов,   "
   ]
  },
  {
   "cell_type": "code",
   "execution_count": 7,
   "metadata": {
    "collapsed": false
   },
   "outputs": [
    {
     "name": "stdout",
     "output_type": "stream",
     "text": [
      "1mandarin.jpg               egypt.py\r\n",
      "2mandarins_with_labels.jpg  lec5.ipynb\r\n",
      "README.md                   morocco.py\r\n"
     ]
    }
   ],
   "source": [
    "%ls *.jpg *.py *.md *.ipynb"
   ]
  },
  {
   "cell_type": "markdown",
   "metadata": {},
   "source": [
    "файлы лекции были размещены в репозитории GitHub <https://github.com/bivni/py_lec5>\n",
    "\n",
    "Для скачивания файлов на ваш компьютер можно выполнить следующие действия: \n",
    "\n",
    "* установить Git с сайта <http://git-scm.com>  на ваш компьютер, если он был не установлен\n",
    "* вызвать интерфейс командной строки (bash)\n",
    "* выбрать и сделать текущей директорию, которая будет родительской для директории `py_lec5` (будет ее содержать)\n",
    "```bash\n",
    "cd Documents/python\n",
    "```\n",
    "* выполнить команду \n",
    "```bash\n",
    "git clone https://github.com/bivni/py_lec5\n",
    "```\n",
    "* прейти в директорию с файлами лекции\n",
    "```bash\n",
    "cd py_lec5\n",
    "```\n",
    "\n",
    "* и можно запускать  локальный веб-сервер jupyter с  ноутбуком\n",
    "```bash\n",
    "jupyter notebook\n",
    "```"
   ]
  },
  {
   "cell_type": "markdown",
   "metadata": {},
   "source": [
    "\n",
    "* * * \n",
    "\n",
    "\n",
    "# Стек, очередь и стек вызовов\n",
    "\n",
    "\n",
    "\n",
    "Стек (stack) --- классическая структрура данных. Его можно представлять как стопку книг. Последний элемент v добавленный в стек (метод push(v) ) первым будет извлечен, когда к стеку обращаются при помощи метода pop() --> v. pop() удаляет последний элемент и выдает его значение. Говорят что стек работает по правилу LIFO -- Last In First Out.\n",
    "\n",
    "Есть другая классическая структура данных Queue (очередь), которая работает по правилу: первый пришел --- первый отстоял очередь (FIFO -- First In First Out).\n",
    "\n",
    "\n",
    "Стек можно реализовать при поммощи типа list (список): \n",
    "\n",
    " list.pop()  -- уже есть \n",
    " \n",
    " list.append(v) добавляет элемент v в конец спискка, т. е. эквивалентно операции push(v)\n",
    " \n",
    " \n",
    " * * *\n",
    " \n",
    " ## Стек вызовов фунций \n",
    " \n",
    " Когда вызывается функция на вершину стека добавляется соответсвующий *frame*.  В фрейм входит следующая информация:\n",
    " \n",
    " * параметры функции \n",
    " * локальные переменные \n",
    " * адрес в вызывающей подпрограмме, куда вернуться по завершении функции\n",
    " \n",
    " \n",
    " Когда, функция завершает работу, соответвующий фрейм удаляется, а выполнения программы продолжается начиная с адреса возврата. *Замечание: в pythontutor.com стек изображен  растущим  вниз. * \n",
    "\n",
    "\n",
    "\n"
   ]
  },
  {
   "cell_type": "markdown",
   "metadata": {},
   "source": [
    "* * *\n",
    "\n",
    "##  Демонстрация стека и стека вызовов\n",
    "\n",
    "<https://goo.gl/JcGGB8>"
   ]
  },
  {
   "cell_type": "markdown",
   "metadata": {},
   "source": [
    "* * *\n",
    "\n",
    "# Разбор ДЗ "
   ]
  },
  {
   "cell_type": "code",
   "execution_count": 14,
   "metadata": {
    "collapsed": false
   },
   "outputs": [
    {
     "data": {
      "text/plain": [
       "'0, 1, 2, 3, 4'"
      ]
     },
     "execution_count": 14,
     "metadata": {},
     "output_type": "execute_result"
    }
   ],
   "source": [
    "\", \".join((str(i) for i in range(5)) )"
   ]
  },
  {
   "cell_type": "code",
   "execution_count": 13,
   "metadata": {
    "collapsed": false
   },
   "outputs": [
    {
     "name": "stdout",
     "output_type": "stream",
     "text": [
      "     54321012345\n",
      "      432101234\n",
      "       3210123\n",
      "        21012\n",
      "         101\n",
      "          0\n",
      "          0\n",
      "         101\n",
      "        21012\n",
      "       3210123\n",
      "      432101234\n",
      "     54321012345\n"
     ]
    }
   ],
   "source": [
    "def print_line(n):\n",
    "    полуширина = 10\n",
    "    print( \" \"*(полуширина-n) +\n",
    "          \"\".join( (str(i) for i in range(n,0,-1)) )   + \"0\" +\n",
    "          \"\".join( (str(i) for i in range(1,n+1))  ) )\n",
    "    \n",
    "    \n",
    "  \n",
    "\n",
    "def sandglass(n):\n",
    "    print_line(n)\n",
    "    if n > 0:\n",
    "        sandglass(n-1)\n",
    "    print_line(n)\n",
    "\n",
    "sandglass(5)        "
   ]
  },
  {
   "cell_type": "markdown",
   "metadata": {},
   "source": [
    "визуализация <https://goo.gl/4Jnxzt>"
   ]
  },
  {
   "cell_type": "markdown",
   "metadata": {},
   "source": [
    "# Итераторы\n",
    "\n",
    "Указатель движущийся по последовательности и  выдающий элементы\n",
    "\n",
    "\n"
   ]
  },
  {
   "cell_type": "code",
   "execution_count": 2,
   "metadata": {
    "collapsed": false
   },
   "outputs": [
    {
     "name": "stdout",
     "output_type": "stream",
     "text": [
      "1\n",
      "3\n",
      "10\n"
     ]
    }
   ],
   "source": [
    "L=[ 1, 3 , 10]\n",
    "it = iter(L)\n",
    "\n",
    "print(next(it))\n",
    "print(next(it))\n",
    "print(next(it))"
   ]
  },
  {
   "cell_type": "code",
   "execution_count": 3,
   "metadata": {
    "collapsed": false
   },
   "outputs": [
    {
     "ename": "StopIteration",
     "evalue": "",
     "output_type": "error",
     "traceback": [
      "\u001b[0;31m---------------------------------------------------------------------------\u001b[0m",
      "\u001b[0;31mStopIteration\u001b[0m                             Traceback (most recent call last)",
      "\u001b[0;32m<ipython-input-3-0b06c37b8ba2>\u001b[0m in \u001b[0;36m<module>\u001b[0;34m()\u001b[0m\n\u001b[0;32m----> 1\u001b[0;31m \u001b[0mprint\u001b[0m\u001b[1;33m(\u001b[0m\u001b[0mnext\u001b[0m\u001b[1;33m(\u001b[0m\u001b[0mit\u001b[0m\u001b[1;33m)\u001b[0m\u001b[1;33m)\u001b[0m\u001b[1;33m\u001b[0m\u001b[0m\n\u001b[0m",
      "\u001b[0;31mStopIteration\u001b[0m: "
     ]
    }
   ],
   "source": [
    "print(next(it))"
   ]
  },
  {
   "cell_type": "code",
   "execution_count": 4,
   "metadata": {
    "collapsed": false
   },
   "outputs": [
    {
     "name": "stdout",
     "output_type": "stream",
     "text": [
      "1\n"
     ]
    }
   ],
   "source": [
    "it = iter(L)\n",
    "print(next(it))\n"
   ]
  },
  {
   "cell_type": "code",
   "execution_count": 4,
   "metadata": {
    "collapsed": false
   },
   "outputs": [
    {
     "name": "stdout",
     "output_type": "stream",
     "text": [
      "0 1 2 "
     ]
    }
   ],
   "source": [
    "it2 = iter(range(3))\n",
    "\n",
    "for  i in it2:\n",
    "    print(i, end=' ')"
   ]
  },
  {
   "cell_type": "markdown",
   "metadata": {},
   "source": [
    "* * *\n",
    "\n",
    "# Генератры \n",
    "\n",
    "Генераторы -- специальный вид функций. Они не прекращают работу после того, как очередной раз сработает `yield значение` и выдаст еще один результат\n",
    "\n",
    "\n",
    "Хочется узнать подробннее: <http://www.python-course.eu/python3_generators.php>"
   ]
  },
  {
   "cell_type": "code",
   "execution_count": 6,
   "metadata": {
    "collapsed": false
   },
   "outputs": [
    {
     "name": "stdout",
     "output_type": "stream",
     "text": [
      "Плешка\n",
      "ЭФ МГУ\n",
      "ВШЭ\n"
     ]
    }
   ],
   "source": [
    "def эконом_вузы():\n",
    "    yield('Плешка')\n",
    "    yield('ЭФ МГУ')\n",
    "    yield('ВШЭ')\n",
    "    \n",
    "for v in эконом_вузы():\n",
    "    print(v)"
   ]
  },
  {
   "cell_type": "code",
   "execution_count": 11,
   "metadata": {
    "collapsed": false
   },
   "outputs": [
    {
     "name": "stdout",
     "output_type": "stream",
     "text": [
      "Плешка\n",
      "ЭФ МГУ\tВШЭ\n",
      "Плешка\tЭФ МГУ\n"
     ]
    }
   ],
   "source": [
    "v_gen =эконом_вузы()\n",
    "print(next(v_gen))\n",
    "\n",
    "v_it=iter(v_gen)\n",
    "\n",
    "print(next(v_it),next(v_it),sep=\"\\t\")\n",
    "\n",
    "v_gen1 = эконом_вузы()\n",
    "\n",
    "print(next(v_gen1),next(v_gen1),sep=\"\\t\")\n"
   ]
  },
  {
   "cell_type": "code",
   "execution_count": 7,
   "metadata": {
    "collapsed": false
   },
   "outputs": [
    {
     "name": "stdout",
     "output_type": "stream",
     "text": [
      "0\n",
      "1\n",
      "1\n",
      "2\n",
      "3\n",
      "5\n",
      "8\n"
     ]
    }
   ],
   "source": [
    "def fibonacci():\n",
    "    fn, fn1 = 0, 1\n",
    "    while True:\n",
    "        yield fn\n",
    "        fn, fn1 = fn1, fn + fn1\n",
    "\n",
    "f = fibonacci()\n",
    "print(next(f))\n",
    "print(next(f))\n",
    "print(next(f))\n",
    "print(next(f))\n",
    "print(next(f))\n",
    "print(next(f))\n",
    "print(next(f))"
   ]
  },
  {
   "cell_type": "code",
   "execution_count": 8,
   "metadata": {
    "collapsed": false
   },
   "outputs": [
    {
     "data": {
      "text/plain": [
       "generator"
      ]
     },
     "execution_count": 8,
     "metadata": {},
     "output_type": "execute_result"
    }
   ],
   "source": [
    "type(f)"
   ]
  },
  {
   "cell_type": "code",
   "execution_count": 10,
   "metadata": {
    "collapsed": false
   },
   "outputs": [
    {
     "data": {
      "text/plain": [
       "13"
      ]
     },
     "execution_count": 10,
     "metadata": {},
     "output_type": "execute_result"
    }
   ],
   "source": [
    "fi = iter(f)\n",
    "type(fi)\n",
    "next(fi)"
   ]
  },
  {
   "cell_type": "code",
   "execution_count": 12,
   "metadata": {
    "collapsed": false
   },
   "outputs": [
    {
     "data": {
      "text/plain": [
       "0"
      ]
     },
     "execution_count": 12,
     "metadata": {},
     "output_type": "execute_result"
    }
   ],
   "source": [
    "f1 = fibonacci()\n",
    "next(f1)"
   ]
  },
  {
   "cell_type": "markdown",
   "metadata": {},
   "source": [
    "* * *\n",
    "\n",
    "# Импорт\n",
    "\n",
    "```python\n",
    "import morocco\n",
    "import egypt \n",
    "```\n",
    "\n",
    "Обращение в форме `модуль.имя_переменной`\n",
    "\n",
    "```python\n",
    "egypt.mandarine\n",
    "```\n",
    "     'я желтый египетский мандарин'\n",
    "\n",
    "```python\n",
    "\n",
    "morocco.mandarine\n",
    "```\n",
    "    'я оранжевый марокканский мандарин'\n",
    "\n",
    "<img src=\"https://github.com/bivni/py_lec5/blob/master/2mandarins_with_labels.jpg?raw=true\" alt=\"Drawing1\" style=\"width: 500px;\"/>\n",
    "\n",
    "\n",
    "```python\n",
    "from morocco import mandarine\n",
    "from egypt import mandarine\n",
    "```\n",
    "\n",
    "Обращение в форме `имя_переменной`\n",
    "\n",
    "```python\n",
    "mandarine\n",
    "```\n",
    "    'я желтый египетский мандарин'\n",
    "\n",
    "<img src=\"https://github.com/bivni/py_lec5/blob/master/1mandarin.jpg?raw=true\" alt=\"Drawing2\" style=\"width: 400px;\"/>\n",
    "\n"
   ]
  },
  {
   "cell_type": "markdown",
   "metadata": {},
   "source": [
    "Команда \"%магическая\"  команда оболочки jupyter %run выполняет текстовый файл с программой на python (.py) или notebook (.ipynb) в контексте текущей сессии python и в пространстве имен главной программы ` __name__ == '__main__'`"
   ]
  },
  {
   "cell_type": "code",
   "execution_count": 20,
   "metadata": {
    "collapsed": false
   },
   "outputs": [
    {
     "name": "stdout",
     "output_type": "stream",
     "text": [
      " module egypt in main program\n"
     ]
    }
   ],
   "source": [
    "%run egypt.py"
   ]
  },
  {
   "cell_type": "code",
   "execution_count": 21,
   "metadata": {
    "collapsed": false
   },
   "outputs": [],
   "source": [
    "import egypt"
   ]
  },
  {
   "cell_type": "code",
   "execution_count": 17,
   "metadata": {
    "collapsed": true
   },
   "outputs": [],
   "source": [
    "%pycat egypt.py"
   ]
  },
  {
   "cell_type": "code",
   "execution_count": 13,
   "metadata": {
    "collapsed": true
   },
   "outputs": [],
   "source": [
    "%pycat morocco.py"
   ]
  },
  {
   "cell_type": "markdown",
   "metadata": {},
   "source": [
    "Функция  python `dir()` может быть использована для получения списка имен, как и в основной программе, так и в модулях"
   ]
  },
  {
   "cell_type": "code",
   "execution_count": 11,
   "metadata": {
    "collapsed": false
   },
   "outputs": [
    {
     "name": "stdout",
     "output_type": "stream",
     "text": [
      "['In', 'Out', '_', '_10', '_3', '_8', '__', '___', '__builtin__', '__builtins__', '__doc__', '__loader__', '__name__', '__package__', '__spec__', '_dh', '_exit_code', '_i', '_i1', '_i10', '_i11', '_i2', '_i3', '_i4', '_i5', '_i6', '_i7', '_i8', '_i9', '_ih', '_ii', '_iii', '_oh', '_sh', 'collections', 'egypt', 'exit', 'get_ipython', 'quit']\n"
     ]
    }
   ],
   "source": [
    "import egypt\n",
    "print(dir())"
   ]
  },
  {
   "cell_type": "code",
   "execution_count": 12,
   "metadata": {
    "collapsed": false
   },
   "outputs": [
    {
     "data": {
      "text/plain": [
       "module"
      ]
     },
     "execution_count": 12,
     "metadata": {},
     "output_type": "execute_result"
    }
   ],
   "source": [
    "type(egypt)"
   ]
  },
  {
   "cell_type": "code",
   "execution_count": 16,
   "metadata": {
    "collapsed": false
   },
   "outputs": [
    {
     "name": "stdout",
     "output_type": "stream",
     "text": [
      "['__builtins__', '__cached__', '__doc__', '__file__', '__loader__', '__name__', '__package__', '__spec__', 'mandarine', 'potato']\n"
     ]
    }
   ],
   "source": [
    "print(dir(egypt))"
   ]
  },
  {
   "cell_type": "code",
   "execution_count": 14,
   "metadata": {
    "collapsed": false
   },
   "outputs": [
    {
     "data": {
      "text/plain": [
       "'egypt'"
      ]
     },
     "execution_count": 14,
     "metadata": {},
     "output_type": "execute_result"
    }
   ],
   "source": [
    "egypt.__name__"
   ]
  },
  {
   "cell_type": "markdown",
   "metadata": {
    "collapsed": true
   },
   "source": [
    "# Домащнее задание \n",
    "\n",
    "1. В pythontutor.ru  пройдите главу про функции и рекурсию\n",
    "\n",
    "2. Напишите функцию-генератор (с yield вместо return) названий городов \"Золотого кольца\" И используйте результат функции в цикле, который их печатает\n",
    "\n",
    "3. Переделайте ваш код для пункта 2 и сделайте отдельный модуль golden_ring.py где будет функция-генератор для выдачи городов \"Золотого кольца\". Импортируйте этот модуль перед вызовом  фукции-генератора  и создайте список этих городов. Затем постройте строку где города связаны  такими вот разделителями: '--**--' \n",
    "\n",
    "4. Напишите функцию-генератор выдающую последовательность факториалов: 1,1,2,6,24,120, ...\n",
    "\n",
    "3. Напишите выражение-генератор для получения последовательности строк: 'AA', 'AB', 'AC', .. , 'ZZ'"
   ]
  },
  {
   "cell_type": "code",
   "execution_count": null,
   "metadata": {
    "collapsed": true
   },
   "outputs": [],
   "source": []
  }
 ],
 "metadata": {
  "kernelspec": {
   "display_name": "Python 3",
   "language": "python",
   "name": "python3"
  },
  "language_info": {
   "codemirror_mode": {
    "name": "ipython",
    "version": 3
   },
   "file_extension": ".py",
   "mimetype": "text/x-python",
   "name": "python",
   "nbconvert_exporter": "python",
   "pygments_lexer": "ipython3",
   "version": "3.6.0"
  }
 },
 "nbformat": 4,
 "nbformat_minor": 2
}
